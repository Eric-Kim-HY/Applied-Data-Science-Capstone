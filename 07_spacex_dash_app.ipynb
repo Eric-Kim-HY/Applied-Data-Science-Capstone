{
 "cells": [
  {
   "cell_type": "markdown",
   "id": "21aa88d4-e82c-4f01-b3f6-9ec4722fd08c",
   "metadata": {},
   "source": [
    "## SpaceX Dash"
   ]
  },
  {
   "cell_type": "code",
   "execution_count": null,
   "id": "6cc8371c-156c-4b0e-b684-27edcefc0df0",
   "metadata": {},
   "outputs": [],
   "source": [
    "!pip install jupyter-dash"
   ]
  },
  {
   "cell_type": "code",
   "execution_count": 4,
   "id": "8d3d6d5d-2f5d-4a37-b8b1-fd806c9aa35a",
   "metadata": {},
   "outputs": [
    {
     "name": "stderr",
     "output_type": "stream",
     "text": [
      "<ipython-input-4-89e3ae8eb04c>:4: UserWarning: \n",
      "The dash_html_components package is deprecated. Please replace\n",
      "`import dash_html_components as html` with `from dash import html`\n",
      "  import dash_html_components as html\n",
      "<ipython-input-4-89e3ae8eb04c>:5: UserWarning: \n",
      "The dash_core_components package is deprecated. Please replace\n",
      "`import dash_core_components as dcc` with `from dash import dcc`\n",
      "  import dash_core_components as dcc\n"
     ]
    }
   ],
   "source": [
    "# Import required libraries\n",
    "import pandas as pd\n",
    "import dash\n",
    "import dash_html_components as html\n",
    "import dash_core_components as dcc\n",
    "from dash.dependencies import Input, Output\n",
    "import plotly.express as px"
   ]
  },
  {
   "cell_type": "code",
   "execution_count": 6,
   "id": "36acd0ad-6951-4f2e-aaae-1c184bcd6135",
   "metadata": {
    "tags": []
   },
   "outputs": [],
   "source": [
    "# Read the airline data into pandas dataframe\n",
    "spacex_df = pd.read_csv(\"07_spacex_launch_dash.csv\")\n",
    "max_payload = spacex_df['Payload Mass (kg)'].max()\n",
    "min_payload = spacex_df['Payload Mass (kg)'].min()"
   ]
  },
  {
   "cell_type": "code",
   "execution_count": 7,
   "id": "004f4a1a-2b67-4cfd-bef6-1ca2503aba9e",
   "metadata": {},
   "outputs": [],
   "source": [
    "# Create a dash application\n",
    "app = dash.Dash(__name__)\n",
    "\n",
    "# Create an app layout\n",
    "app.layout = html.Div(children=[html.H1('SpaceX Launch Records Dashboard',\n",
    "                                        style={'textAlign': 'center', 'color': '#503D36',\n",
    "                                               'font-size': 40}),\n",
    "                                # TASK 1: Add a dropdown list to enable Launch Site selection\n",
    "                                # The default select value is for ALL sites\n",
    "                                dcc.Dropdown(id='site-dropdown',options=[\n",
    "                                    {'label':'All Sites', 'value':'ALL'},\n",
    "                                    {'label':'CCAFS LC-40', 'value':'CCAFS LC-40'},\n",
    "                                    {'label':'CCAFS SLC-40', 'value':'CCAFS SLC-40'},\n",
    "                                    {'label':'KSC LC-39A', 'value':'KSC LC-39A'},\n",
    "                                    {'label':'VAFB SLC-4E', 'value':'VAFB SLC-4E'}\n",
    "                                ],\n",
    "                                value= 'ALL',\n",
    "                                placeholder='Select a Launch Site here',\n",
    "                                searchable=True\n",
    "                                ),\n",
    "                                html.Br(),\n",
    "\n",
    "                                # TASK 2: Add a pie chart to show the total successful launches count for all sites\n",
    "                                # If a specific launch site was selected, show the Success vs. Failed counts for the site\n",
    "                                html.Div(dcc.Graph(id='success-pie-chart')),\n",
    "                                html.Br(),\n",
    "\n",
    "                                html.P(\"Payload range (Kg):\"),\n",
    "                                # TASK 3: Add a slider to select payload range\n",
    "                                dcc.RangeSlider(id='payload-slider',\n",
    "                                                min=0,max=10000,step=1000,\n",
    "                                                value=[min_payload,max_payload]),\n",
    "                                                \n",
    "\n",
    "                                # TASK 4: Add a scatter chart to show the correlation between payload and launch success\n",
    "                                html.Div(dcc.Graph(id='success-payload-scatter-chart')),\n",
    "                                ])\n",
    "\n",
    "\n"
   ]
  },
  {
   "cell_type": "code",
   "execution_count": 8,
   "id": "fbe35fbc-4d95-403b-b119-20219616ce6d",
   "metadata": {},
   "outputs": [],
   "source": [
    "# Add a callback function for `site-dropdown` as input, `success-pie-chart` as output\n",
    "@app.callback(Output(component_id='success-pie-chart',component_property='figure'),\n",
    "                Input(component_id='site-dropdown',component_property='value'))\n",
    "def get_pie_chart(entered_site):\n",
    "    grouped_df = spacex_df.groupby([\"Launch Site\", \"class\"])[\"class\"].count().reset_index(name=\"count\")\n",
    "    all_success=grouped_df[grouped_df['class']==1]\n",
    "    if entered_site == 'ALL':\n",
    "        fig = px.pie(grouped_df,values='count',\n",
    "        names='Launch Site',\n",
    "        title='Successful Launches from all launch sites')\n",
    "        fig.update_traces(textinfo='value+percent')\n",
    "        return fig\n",
    "    else:\n",
    "        select_site = grouped_df[grouped_df['Launch Site']==entered_site]\n",
    "        select_site.sort_values(by=['class'],ascending=True)\n",
    "        success=['Failure','Success']\n",
    "        fig = px.pie(select_site,values='count',\n",
    "        names=success,\n",
    "        title=f'Launches from {entered_site} launch site')\n",
    "        fig.update_traces(textinfo='value+percent')\n",
    "        return "
   ]
  },
  {
   "cell_type": "code",
   "execution_count": 9,
   "id": "503b62b4-48d2-450e-a616-0323e38c203b",
   "metadata": {},
   "outputs": [],
   "source": [
    "# Add a callback function for `site-dropdown` and `payload-slider` as inputs, `success-payload-scatter-chart` as output\n",
    "@app.callback(Output(component_id='success-payload-scatter-chart', component_property='figure'),\n",
    "                [Input(component_id='site-dropdown',component_property='value'),\n",
    "                Input(component_id='payload-slider',component_property='value')])\n",
    "\n",
    "def get_scatter(entered_site,slide_range):\n",
    "    low,high =slide_range\n",
    "    mask = (spacex_df['Payload Mass (kg)'] > low) & (spacex_df['Payload Mass (kg)'] < high)\n",
    "    if entered_site == 'ALL':\n",
    "        fig = px.scatter(spacex_df[mask], x=\"Payload Mass (kg)\", y=\"class\", \n",
    "        color=\"Booster Version Category\",\n",
    "        title='Successful launches from all sites for different Payload and Booster Version')\n",
    "        return fig\n",
    "    else:\n",
    "        selected_site = spacex_df[spacex_df['Launch Site']==entered_site]\n",
    "        fig = px.scatter(selected_site[mask], x=\"Payload Mass (kg)\", y=\"class\", \n",
    "        color=\"Booster Version Category\",\n",
    "        title=f'Successful launches from {entered_site} for different Payload and Booster Version')\n",
    "        return fig"
   ]
  },
  {
   "cell_type": "code",
   "execution_count": null,
   "id": "f4b15b8d-9215-47b5-a143-f2ee9fbfd15d",
   "metadata": {},
   "outputs": [
    {
     "name": "stdout",
     "output_type": "stream",
     "text": [
      "Dash is running on http://127.0.0.1:8050/\n",
      "\n",
      " * Serving Flask app \"__main__\" (lazy loading)\n",
      " * Environment: production\n",
      "   WARNING: This is a development server. Do not use it in a production deployment.\n",
      "   Use a production WSGI server instead.\n",
      " * Debug mode: off\n"
     ]
    },
    {
     "name": "stderr",
     "output_type": "stream",
     "text": [
      " * Running on http://127.0.0.1:8050/ (Press CTRL+C to quit)\n",
      "127.0.0.1 - - [30/May/2022 10:29:37] \"\u001b[37mGET / HTTP/1.1\u001b[0m\" 200 -\n",
      "127.0.0.1 - - [30/May/2022 10:29:37] \"\u001b[37mGET /_dash-component-suites/dash/deps/polyfill@7.v2_4_1m1653873998.12.1.min.js HTTP/1.1\u001b[0m\" 200 -\n",
      "127.0.0.1 - - [30/May/2022 10:29:37] \"\u001b[37mGET /_dash-component-suites/dash/deps/react@16.v2_4_1m1653873998.14.0.min.js HTTP/1.1\u001b[0m\" 200 -\n",
      "127.0.0.1 - - [30/May/2022 10:29:37] \"\u001b[37mGET /_dash-component-suites/dash/deps/react-dom@16.v2_4_1m1653873998.14.0.min.js HTTP/1.1\u001b[0m\" 200 -\n",
      "127.0.0.1 - - [30/May/2022 10:29:37] \"\u001b[37mGET /_dash-component-suites/dash/deps/prop-types@15.v2_4_1m1653873998.8.1.min.js HTTP/1.1\u001b[0m\" 200 -\n",
      "127.0.0.1 - - [30/May/2022 10:29:37] \"\u001b[37mGET /_dash-component-suites/dash/dash-renderer/build/dash_renderer.v2_4_1m1653873998.min.js HTTP/1.1\u001b[0m\" 200 -\n",
      "127.0.0.1 - - [30/May/2022 10:29:38] \"\u001b[37mGET /_dash-component-suites/dash/dcc/dash_core_components.v2_4_0m1653873998.js HTTP/1.1\u001b[0m\" 200 -\n",
      "127.0.0.1 - - [30/May/2022 10:29:38] \"\u001b[37mGET /_dash-component-suites/dash/dcc/dash_core_components-shared.v2_4_0m1653873998.js HTTP/1.1\u001b[0m\" 200 -\n",
      "127.0.0.1 - - [30/May/2022 10:29:38] \"\u001b[37mGET /_dash-component-suites/dash/html/dash_html_components.v2_0_3m1653873999.min.js HTTP/1.1\u001b[0m\" 200 -\n",
      "127.0.0.1 - - [30/May/2022 10:29:38] \"\u001b[37mGET /_dash-component-suites/dash/dash_table/bundle.v5_1_2m1653873998.js HTTP/1.1\u001b[0m\" 200 -\n",
      "127.0.0.1 - - [30/May/2022 10:29:38] \"\u001b[37mGET /_dash-layout HTTP/1.1\u001b[0m\" 200 -\n",
      "127.0.0.1 - - [30/May/2022 10:29:38] \"\u001b[37mGET /_dash-dependencies HTTP/1.1\u001b[0m\" 200 -\n",
      "127.0.0.1 - - [30/May/2022 10:29:38] \"\u001b[37mGET /_favicon.ico?v=2.4.1 HTTP/1.1\u001b[0m\" 200 -\n",
      "127.0.0.1 - - [30/May/2022 10:29:38] \"\u001b[37mGET /_dash-component-suites/dash/dcc/async-dropdown.js HTTP/1.1\u001b[0m\" 200 -\n",
      "127.0.0.1 - - [30/May/2022 10:29:38] \"\u001b[37mGET /_dash-component-suites/dash/dcc/async-graph.js HTTP/1.1\u001b[0m\" 200 -\n",
      "127.0.0.1 - - [30/May/2022 10:29:38] \"\u001b[37mGET /_dash-component-suites/dash/dcc/async-slider.js HTTP/1.1\u001b[0m\" 200 -\n",
      "127.0.0.1 - - [30/May/2022 10:29:38] \"\u001b[37mGET /_dash-component-suites/dash/dcc/async-plotlyjs.js HTTP/1.1\u001b[0m\" 200 -\n",
      "127.0.0.1 - - [30/May/2022 10:29:39] \"\u001b[37mPOST /_dash-update-component HTTP/1.1\u001b[0m\" 200 -\n",
      "127.0.0.1 - - [30/May/2022 10:29:39] \"\u001b[37mPOST /_dash-update-component HTTP/1.1\u001b[0m\" 200 -\n",
      "<ipython-input-9-8d7dc37819dc>:16: UserWarning:\n",
      "\n",
      "Boolean Series key will be reindexed to match DataFrame index.\n",
      "\n",
      "127.0.0.1 - - [30/May/2022 10:29:45] \"\u001b[37mPOST /_dash-update-component HTTP/1.1\u001b[0m\" 200 -\n",
      "127.0.0.1 - - [30/May/2022 10:29:45] \"\u001b[37mPOST /_dash-update-component HTTP/1.1\u001b[0m\" 200 -\n",
      "127.0.0.1 - - [30/May/2022 10:29:45] \"\u001b[37mPOST /_dash-update-component HTTP/1.1\u001b[0m\" 200 -\n",
      "127.0.0.1 - - [30/May/2022 10:29:45] \"\u001b[37mPOST /_dash-update-component HTTP/1.1\u001b[0m\" 200 -\n",
      "127.0.0.1 - - [30/May/2022 10:29:47] \"\u001b[37mPOST /_dash-update-component HTTP/1.1\u001b[0m\" 200 -\n",
      "<ipython-input-9-8d7dc37819dc>:16: UserWarning:\n",
      "\n",
      "Boolean Series key will be reindexed to match DataFrame index.\n",
      "\n",
      "127.0.0.1 - - [30/May/2022 10:29:47] \"\u001b[37mPOST /_dash-update-component HTTP/1.1\u001b[0m\" 200 -\n"
     ]
    }
   ],
   "source": [
    "# Run the app\n",
    "if __name__ == '__main__':\n",
    "    app.run_server()"
   ]
  },
  {
   "cell_type": "code",
   "execution_count": null,
   "id": "795cb613-467b-4a19-9c59-384cf8a7b242",
   "metadata": {},
   "outputs": [],
   "source": []
  }
 ],
 "metadata": {
  "kernelspec": {
   "display_name": "Python 3",
   "language": "python",
   "name": "python3"
  },
  "language_info": {
   "codemirror_mode": {
    "name": "ipython",
    "version": 3
   },
   "file_extension": ".py",
   "mimetype": "text/x-python",
   "name": "python",
   "nbconvert_exporter": "python",
   "pygments_lexer": "ipython3",
   "version": "3.8.8"
  }
 },
 "nbformat": 4,
 "nbformat_minor": 5
}
